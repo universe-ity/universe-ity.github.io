{
 "cells": [
  {
   "cell_type": "markdown",
   "metadata": {
    "colab_type": "text",
    "id": "afx1h9mFI6j_"
   },
   "source": [
    "# Optical systems"
   ]
  },
  {
   "cell_type": "markdown",
   "metadata": {
    "colab_type": "text",
    "id": "ABVjt37IorWk"
   },
   "source": [
    "## Afocal systems"
   ]
  },
  {
   "cell_type": "markdown",
   "metadata": {
    "colab_type": "text",
    "id": "MAH-TF68ffQK"
   },
   "source": [
    "In optics an afocal system - afocal meaning a system without focus - is an optical system that produces no net convergence or divergence of the rays. In other words, an afocal system is a system of lenses that does not focus the rays which is equivalent to having an infinite focal length. \n",
    "\n",
    "A simple afocal system can be created with a couple of optical elements where the distance between the elements is equal to the sum of each element's focal length,\n",
    "\n",
    "$$ d = f_o + f_e,$$\n",
    "\n",
    "where $f_o$ is the focual length of lens closest to the object and $f_e$ is the lens closes to the image.\n",
    "\n",
    " An example of an afocal optical system is an optical telescope, the light from a faraway object entering the system is considered to be at \"infinity\" and the image it forms is thus also at \"infinity\" since the system does not converge or diverge the rays. Although the system does not alter the divergence of the \"parallel\" rays, it does alter the separation of the rays, thus increasing magnification. The magnification of such a system is given by\n",
    "\n",
    "$$M = \\frac{f_0}{f_e}.$$\n",
    "\n",
    "Afocal systems are used in laser optics (for instance as beam expanders), Infrared and forward looking infrared systems, camera zoom lenses, and telescopic lens attachments such as teleside converters, and photography setups combining cameras and telescopes refered to as *afocal* photography."
   ]
  },
  {
   "cell_type": "markdown",
   "metadata": {
    "colab_type": "text",
    "id": "oTZGmJJykwya"
   },
   "source": [
    "### Telescopes"
   ]
  },
  {
   "cell_type": "markdown",
   "metadata": {
    "colab_type": "text",
    "id": "6VNp_kKrlAlN"
   },
   "source": [
    "Telescopes are used for viewing distant objects, producing an image that is larger than the image that can be seen with the naked eye. Telescopes also gather far more light than the naked eye, allowing dim objects to not only be observed with greater magnification, but with better resolution as well. Although Galileo did not invent the telescope, what he did do was more important. \n",
    "\n",
    "> He constructed several early telescopes, was the first to study the heavens with them, and made monumental discoveries using them. Among these are the moons of Jupiter, the craters and mountains on the Moon, the details of sunspots, and the fact that the Milky Way is composed of vast numbers of individual stars. ([source and more on telescopes](https://courses.lumenlearning.com/physics/chapter/26-5-telescopes/))\n",
    "\n",
    "![Galileo](https://www.universetoday.com/wp-content/uploads/2008/07/galileo_telescope.jpg)\n",
    "\n",
    "Picture above is a Galilean telescope, which is an afocal optical system consisting of one convex lens and one concave lens. A ray trace diagram can be seen in part (a) of the figure below.\n",
    "\n",
    "\n",
    "\n",
    "![Telescopes](https://s3-us-west-2.amazonaws.com/courses-images-archive-read-only/wp-content/uploads/sites/222/2014/12/20111328/Figure_27_05_01.jpg)\n",
    "\n",
    "Part (b) in the figure above is a ray trace diagram of the afocal optical system found in some simple modern telescopes. Unlike the Galilean telescope, these telescopes consist of two convex lenses. "
   ]
  },
  {
   "cell_type": "markdown",
   "metadata": {
    "colab_type": "text",
    "id": "Xu2IHfZIHok2"
   },
   "source": [
    "## The Human Eye"
   ]
  },
  {
   "cell_type": "markdown",
   "metadata": {
    "colab_type": "text",
    "id": "_7NGj6MlHxTM"
   },
   "source": [
    "### Walker Model\n",
    "\n"
   ]
  },
  {
   "cell_type": "markdown",
   "metadata": {
    "colab_type": "text",
    "id": "nC6x8LC3H0Q7"
   },
   "source": [
    "This follows the reference eye metrics found in Bruce H. Walker, Optical Design for Visual Systems, SPIE Tutorial Texts in Optical Engineering Volume TT45, (2000).\n",
    "\n",
    "Walker cogently summarizes:\n",
    "\n",
    "> The human eye may be described (approximately) as a 1-inch-diameter water-filled sphere with a focusing lens assembly, adjustable iris, and a high-resolution sensor (the retina) at its image surface. The typical eye has a focal length of 17.3 mm, a variable f-number from f/2.5 to f/17, and adjustable focus from infinity down to 10 inches. While the full field of view of the eye is approximately 140 deg, the area of useful imagery is limited to about 90 deg. The optics of the eye are configured to reduce residual spherical aberration, while chromatic aberration remains uncorrected. The area of optimum resolution at the retina is referred to as the fovea. In most cases, when forming an image at the fovea, the optics of the eye exhibit image quality (spot size) that is from 2 to 4 times worse than the diffraction limit. Normal visual acuity is 1 arc minute, meaning that under normal conditions the eye will resolve a high-contrast, repeating pattern of equal width bars and spaces, when each element of that pattern subtends an angle of 1 arc minute to the eye. In order to be effective, the designer of optical instruments for visual applications must take into account all of the physical and optical characteristics that have been presented here.\n",
    "\n",
    "Walker also provides a drawing summarizing the standard eye: <a id='WalkerDrawing'></a>\n",
    "\n",
    "![Walker eye](https://omlc.org/classroom/oslotut/eye/walker-eye.png)\n",
    "\n"
   ]
  },
  {
   "cell_type": "markdown",
   "metadata": {
    "colab_type": "text",
    "id": "T0pqM5CXJfM0"
   },
   "source": [
    "### Indeces of refraction"
   ]
  },
  {
   "cell_type": "markdown",
   "metadata": {
    "colab_type": "text",
    "id": "-mSPKryrKFYK"
   },
   "source": [
    "The indices of refraction at the (green) Fraunhofer d-line at $589.3\\ nm$ are\n",
    "<table>\n",
    "    <tr><td>Cornea</td><td>1.377</td></tr>\n",
    "    <tr><td>Aqueous</td><td>1.336</td></tr>\n",
    "    <tr><td>Lens</td><td>1.411</td></tr>\n",
    "    <tr><td>Vitreous</td><td>1.337</td></tr>\n",
    "</table>\n",
    "\n",
    "The indeces of refraction at other wavelengths can be determined using the [Abbe number](https://en.wikipedia.org/wiki/Abbe_number) which is \"an approximate measure of the material's dispersion (change of refractive index versus wavelength).\" The Abbe number $V_d$ of a material is defined as\n",
    "\n",
    "$$V_d = \\frac{n_d -1}{n_f -n_c} $$\n",
    "\n",
    "where $n_d$, $n_f$, and $n_c$ are the refractive indices of the material at the wavelengths of the Fraunhofer d, F, and C spectral lines ($589.3\\ nm$, $486.1\\ nm$ and $656.3\\ nm$ respectively).\n",
    "\n",
    "Walker specifies an Abbe number of $V_d = 55$ which happens to be the Abbe number for water! This makes sense since the eye is mostly water and its index of refraction is  $n_d=1.333$  at $589.3\\ nm$. (The slight increase from water for the aqueous and vitreous humours arises from extra protein in these liquids)."
   ]
  },
  {
   "cell_type": "markdown",
   "metadata": {
    "colab_type": "text",
    "id": "__X-8XdbIPaC"
   },
   "source": [
    "### Accommodation"
   ]
  },
  {
   "cell_type": "markdown",
   "metadata": {
    "colab_type": "text",
    "id": "ojvCnf5Jdp4J"
   },
   "source": [
    "Accommodation describes the eye focusing on something close. For design purposes, the near point distance is the closest something can be to your eye to focus without straining. The near point distance is accepted to be 250mm.\n",
    "\n",
    "![eye accomodation](http://hyperphysics.phy-astr.gsu.edu/hbase/vision/imgvis/accom.gif)\n",
    "\n",
    "Consequently, there are two models of the eye. One for it relaxed (unaccomodated) where the focus is at infinity. The other is fully-accommodated and focused at the near point distance of $250\\ mm$. Despite other physical changes, only thing that changes during accomdation is the radius of curvature of the front surface of the lens."
   ]
  }
 ],
 "metadata": {
  "colab": {
   "collapsed_sections": [],
   "name": "Geometric Optics Optical Systems Page.ipynb",
   "provenance": []
  },
  "kernelspec": {
   "display_name": "Python 3",
   "name": "python3"
  }
 },
 "nbformat": 4,
 "nbformat_minor": 0
}
