{
 "cells": [
  {
   "cell_type": "markdown",
   "metadata": {
    "colab_type": "text",
    "id": "IRWUhAlX2Ku8"
   },
   "source": [
    "# Background"
   ]
  },
  {
   "cell_type": "markdown",
   "metadata": {
    "colab_type": "text",
    "id": "2DL0dUaV2Pnr"
   },
   "source": [
    "## Aberrations"
   ]
  },
  {
   "cell_type": "markdown",
   "metadata": {
    "colab_type": "text",
    "id": "v-wy7GAH6HZj"
   },
   "source": [
    "Many optical instruments such as photo cameras, telescopes, and microscopes involve some kind of optical imaging. Ideally (ie according to Gaussian optics), the image produced by the optical system would have the following properties:\n",
    "\n",
    "\n",
    "\n",
    "\n",
    "*   There is an exact one to one correspondence between object points and image points; every point on the object is precisely imaged to one point. In other words, the rays that emerge from the object, should travel through the optical system and converge to form a single point of the real or virtual image.\n",
    "*   At least for object points in a single static plane, images do not exhibit any geometric distortions. For example, rays emanating from a square region of the object would form a square region of the image.\n",
    "\n",
    "*  There is no wavelength (color) dependence in the formation of the image.\n",
    "\n",
    "In reality, such properties may never be realized for various reasons, such as:\n",
    "\n",
    "*  Diffraction of light sets a limit to the possible image resolution. An infinitely small point on the object, for example, is always imaged to an area of finite size (described by the Point Spread Function which is discussed in a later section).\n",
    "*  Various properties of an imaging system cause different kinds of **optical aberrations i.e image imperfections**. Optical aberrations can be analyzed with geometrical optics (ray optics). These can occur even if the optical parts perfectly adhere to the specifications like, for example, a lens with perfectly spherical surfaces.\n",
    "*  There can be imperfections of optical elements, which further add aberrations. For example, an aspheric lens based on cheap plastic optics may have an imperfect surface shape and may even have internal imperfections as well.\n",
    "\n",
    "![Aberration](https://drive.google.com/uc?export=view&id=15YpyVt3-cq5-SgmQy3VwWNXhqeZSIVAe)"
   ]
  },
  {
   "cell_type": "markdown",
   "metadata": {
    "colab_type": "text",
    "id": "AY2IPaY82Sh1"
   },
   "source": [
    "### Sperical aberrations\n",
    "\n",
    "Most optical lenses have spherical surfaces because spherical surfaces are more easily fabricated with high optical quality. That surface shape, however, is not ideal for imaging; the outer parts of the lens are then too strongly curved resulting in aberration as shown in the example below,\n",
    "\n",
    "![Spherical aberration](https://www.rvcj.com/wp-content/uploads/2016/11/Spherical-Aberration.png)\n",
    "\n",
    "This type of aberration is called spherical aberration. Spherical aberation can be generalized to all aberrations associated with a non-ideal radial dependence of phase changes. This type of aberration can occur even for plane surfaces when divergent or convergent light travels through such a plate. This is essentially because the law of refraction contains the sine rather than the tangent function, which would be required to avoid spherical aberrations.\n",
    "\n",
    "Much like many other types of aberrations, spherica aberrations can be mitigated in optical systems such as the human eye by adjusting the curvature of one or more surfaces of the optical elements.\n",
    "\n",
    "![aspherical lens](https://drive.google.com/uc?export=view&id=1uMnlGK-SZBsvCQ5AE267El-E2KP7hhol)"
   ]
  },
  {
   "cell_type": "markdown",
   "metadata": {
    "colab_type": "text",
    "id": "xr2fKP-d2L30"
   },
   "source": [
    "### Coma\n",
    "\n",
    "The coma or comatic aberration in an optical system refers to a type of aberration inherent to certain optical designs (due to imperfection in the lens or other components) that results in a distorted image for off-axis point sources. Stars for example, can end up appearing to have a tail (coma) like a comet in the image. Specifically, coma is defined as a variation in magnification over the entrance aperature stop. \n",
    "\n",
    "![comatic aberation](https://www.thorlabs.com/images/TabImages/Coma_Aberration.jpg)\n",
    "\n",
    "Coma of a single lens or a system of lenses can be minimized (and in some cases eliminated) by choosing the curvature of the lens surfaces to match the application. Lenses in which both spherical aberration and coma are minimized at a single wavelength are called bestform or aplanatic lenses.\n",
    "\n",
    "In the following java applet, a simulation of comatic aberrations that may be observed in a microscope is provided for futher exploration.\n",
    "\n",
    "\n",
    "---\n",
    "\n",
    "<iframe src=\"https://lsmicro.olympus-lifescience.com/data/olympusmicro/htmltutorials/source/-v2/tutorials/java/aberrations/coma/mobile/coma.html?rev=774B\" frameborder=\"0\" width=\"500\" height=\"420\"></iframe>\n",
    "\n",
    "---\n",
    "\n",
    "More information can be found in this [tutorial](https://www.olympus-lifescience.com/en/microscope-resource/primer/java/aberrations/coma/).\n",
    "\n",
    "In refractive or diffractive optical systems, especially those imaging a wide spectral range, coma can be wavelength dependent, in which case it is reclassified as a form of chromatic aberration."
   ]
  },
  {
   "cell_type": "markdown",
   "metadata": {
    "colab_type": "text",
    "id": "oweC0ddk2MKM"
   },
   "source": [
    "### Chromatic aberrations\n",
    "\n",
    "When the refractive index of a lens is wavelength dependent, the focal length of the lens ends up also being wavelength dependent and the lens fails to focus all colors of the light rays at the same focal point resulting in what is called chromatic aberration.\n",
    "\n",
    "![chromatic aberration](https://upload.wikimedia.org/wikipedia/commons/e/e5/Lens6a.png)"
   ]
  },
  {
   "cell_type": "markdown",
   "metadata": {
    "colab_type": "text",
    "id": "QKgJ6CF-2MBz"
   },
   "source": [
    "### Astigmatism\n",
    "\n",
    "When the rays that propogate in one plane focus at a different point than the rays the propogate in the plane perpendicular the result is aberration referred to as Astigmatism.\n",
    "\n",
    "\n",
    "\n",
    "\n",
    "![astigmatism](https://www.photonics.com/images/Web/Articles/2009/3/8/LensAberrations_Walker_NEW_Figure4.jpg)\n",
    "\n",
    "\n",
    "In the following java applet, a simulation of astigmatic aberrations that may be observed in a microscope is provided for futher exploration.\n",
    "\n",
    "---\n",
    "\n",
    "<iframe src=\"https://nikon.magnet.fsu.edu/html5/tutorials/aberrations/astigmatism/mobile/astigmatism.html\" frameborder=\"0\" width=\"550\" height=\"578\" ></iframe>\n",
    "\n",
    "---\n",
    "\n",
    "More information can be found in this [tutorial](https://www.microscopyu.com/tutorials/astigmatism).\n",
    "\n"
   ]
  },
  {
   "cell_type": "markdown",
   "metadata": {
    "colab_type": "text",
    "id": "LdHCr3OO2MvT"
   },
   "source": [
    "### Distortions\n",
    "\n",
    "Distortion is a form of optical aberration where a straight line of points on the object does not result in a **straight** line of points in the image.\n",
    "\n",
    "![distortion](https://www.swarovskioptik.com/is-bin/intershop.static/WFS/SOP-US-Site/SOP-Blog/en_US/blog/HunterArticleBlog/images/on_target_03_04.jpg)"
   ]
  }
 ],
 "metadata": {
  "colab": {
   "collapsed_sections": [],
   "name": "Analysis of Optical Systems with OSLO Background Page.ipynb",
   "provenance": []
  },
  "kernelspec": {
   "display_name": "Python 3",
   "language": "python",
   "name": "python3"
  },
  "language_info": {
   "codemirror_mode": {
    "name": "ipython",
    "version": 2
   },
   "file_extension": ".py",
   "mimetype": "text/x-python",
   "name": "python",
   "nbconvert_exporter": "python",
   "pygments_lexer": "ipython2",
   "version": "2.7.16"
  }
 },
 "nbformat": 4,
 "nbformat_minor": 1
}
