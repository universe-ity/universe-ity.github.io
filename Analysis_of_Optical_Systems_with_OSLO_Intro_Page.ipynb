{
 "cells": [
  {
   "cell_type": "markdown",
   "metadata": {
    "colab_type": "text",
    "id": "DcLzn7gl5ZaC"
   },
   "source": [
    "# Introduction"
   ]
  },
  {
   "cell_type": "markdown",
   "metadata": {
    "colab_type": "text",
    "id": "efd536QdeBax"
   },
   "source": [
    "In this lab, students will explore optical aberrations using the analysis tools provided in OSLO. Students will be tasked with providing a more detailed analysis of simple optical lens systems than in previous labs and using their analysis, students will also be tasked with optimizing a given Cooke Triplet lens system."
   ]
  }
 ],
 "metadata": {
  "colab": {
   "collapsed_sections": [],
   "name": "Analysis of Optical Systems with OSLO Intro Page.ipynb",
   "provenance": []
  },
  "kernelspec": {
   "display_name": "Python 3",
   "name": "python3"
  }
 },
 "nbformat": 4,
 "nbformat_minor": 0
}
