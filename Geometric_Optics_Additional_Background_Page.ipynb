{
 "cells": [
  {
   "cell_type": "markdown",
   "metadata": {
    "colab_type": "text",
    "id": "4K01NhHVkjOQ"
   },
   "source": [
    "# Additional background"
   ]
  },
  {
   "cell_type": "markdown",
   "metadata": {
    "colab_type": "text",
    "id": "Esb-J54qkpHl"
   },
   "source": [
    "## Correcting for thick lenses"
   ]
  },
  {
   "cell_type": "markdown",
   "metadata": {
    "colab_type": "text",
    "id": "w-kqJ3wDmCsR"
   },
   "source": [
    "The Lens Maker's equation given in the Background section is the result of a thin lens approximation where the thickness $t$ of the lens is very small in comparision to the radius of curvature. When the lens is not thin, it becomes necessary to consider the original equation (Hecht 5th ed. Eqn 5.14), \n",
    "\n",
    "$$ \\frac{1}{f} = (1-n)\\left[ \\frac{1}{r_1} - \\frac{1}{r_2} + \\frac{(n-1)}{n}\\frac{t}{r_1r_2} \\right]. $$\n",
    "\n",
    "Again, this expression assumes that the lenses are in air. It is important to note the additional term and how it scales with the thickess of the lens."
   ]
  },
  {
   "cell_type": "markdown",
   "metadata": {
    "colab_type": "text",
    "id": "MsKVBM6MPzCo"
   },
   "source": [
    "## Principal planes"
   ]
  },
  {
   "cell_type": "markdown",
   "metadata": {
    "colab_type": "text",
    "id": "9fl85TBNP2u3"
   },
   "source": [
    "The principal planes are two hypothetical planes (one for each surface) in a lens at which all the refraction *can be considered* to happen. For a thin bi-convex lens, the two planes lie on the central plane bisecting the lens. For a thick lens this is not so,\n",
    "\n",
    "![Priciple planest](http://hyperphysics.phy-astr.gsu.edu/hbase/geoopt/imggo/pripl.gif)\n",
    "\n",
    "Note that the focal length is measured from the principle planes! The distance from the vertexes to the nearest principal plane (derived at the beginning of Chapter 6 of Hecht 5th ed.) are given by,\n",
    "\n",
    "$$h_1 = \\frac{f(n-1)t}{nr_1}\\ \\ , \\quad\\quad h_2 = \\frac{f(n-1)t}{nr_2}$$"
   ]
  },
  {
   "cell_type": "markdown",
   "metadata": {
    "colab_type": "text",
    "id": "UA1uQ1_Y2QCs"
   },
   "source": [
    "## Focal length of two thin lens systems"
   ]
  },
  {
   "cell_type": "markdown",
   "metadata": {
    "colab_type": "text",
    "id": "1_yUInl427le"
   },
   "source": [
    "The focal length of an optical system consisting of two thin lenses is related to the focal length of each of the lenses as follows,\n",
    "\n",
    "$$ \\frac{1}{f} = \\frac{1}{f_1} + \\frac{1}{f_2} - \\frac{d}{f_1f_2}$$\n",
    "\n",
    "where $d$ is the distance of separation between the lenses (distance between the centers of the lenses)."
   ]
  },
  {
   "cell_type": "markdown",
   "metadata": {
    "colab_type": "text",
    "id": "h30oZ9bd5WVS"
   },
   "source": [
    "## Thin lens equation but for thick lenses? "
   ]
  },
  {
   "cell_type": "markdown",
   "metadata": {
    "colab_type": "text",
    "id": "2oMy5ors6f28"
   },
   "source": [
    "The thin lens equation given in the Background section cannot be used directly to find images formed by thick lenses. More on methods for finding the image formed by thick lenses can be read about [here (HyperPhysics)](http://hyperphysics.phy-astr.gsu.edu/hbase/geoopt/thklencon.html#c1)."
   ]
  },
  {
   "cell_type": "markdown",
   "metadata": {
    "colab_type": "text",
    "id": "_hMf_q9OcKuy"
   },
   "source": [
    "## Diverging lenses"
   ]
  },
  {
   "cell_type": "markdown",
   "metadata": {
    "colab_type": "text",
    "id": "FaYos2Ri6jNZ"
   },
   "source": [
    "It may prove beneficial to explore diverging lenses in the [Image from a Diverging Lens Physlet](https://www.compadre.org/Physlets/optics/illustration35_2.cfm)."
   ]
  }
 ],
 "metadata": {
  "colab": {
   "collapsed_sections": [],
   "name": "Geometric Optics Additional Background Page.ipynb",
   "provenance": [],
   "toc_visible": true
  },
  "kernelspec": {
   "display_name": "Python 3",
   "name": "python3"
  }
 },
 "nbformat": 4,
 "nbformat_minor": 0
}
