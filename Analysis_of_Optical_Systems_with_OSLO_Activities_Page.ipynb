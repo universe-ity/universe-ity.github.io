{
 "cells": [
  {
   "cell_type": "markdown",
   "metadata": {
    "colab_type": "text",
    "id": "fQKKeubf3yn1"
   },
   "source": [
    "# Activities"
   ]
  },
  {
   "cell_type": "markdown",
   "metadata": {
    "colab_type": "text",
    "id": "rwQapMBh3yn4"
   },
   "source": [
    "<div class=\"alert alert-warning\">\n",
    "\n",
    "IMPORTANT\n",
    "\n",
    "Students should provide detailed descriptions and pictures to support their analysis.\n",
    "\n",
    "</div>"
   ]
  },
  {
   "cell_type": "markdown",
   "metadata": {
    "colab_type": "text",
    "id": "1UkJBxaP3yn5"
   },
   "source": [
    "## Activity 1"
   ]
  },
  {
   "cell_type": "markdown",
   "metadata": {
    "colab_type": "text",
    "id": "V3eITo9V3yn5"
   },
   "source": [
    "\n",
    "\n",
    "In this activity, you will be using a modified lens to explore how aberrations are quantified in OSLO.\n",
    "\n",
    "*  Download the modified lens [here](https://drive.google.com/file/d/1BirgIRdDFBfmKc7F22YEPOVeAltMCZ0n/view?usp=sharing).\n",
    "\n",
    "### Tasks\n",
    "\n",
    "1.  This should show a lens with ideal rays - sketch what the ideal marginal rays should look like.\n",
    "\n",
    "2.  Sketch what the real chief and marginal rays should look like.\n",
    "\n",
    "3.  Change the “Obj” Radius to $0.00$, examine the resulting Autodraw and compare to your sketches.\n",
    "\n",
    "4.  What kinds of aberrations does this lens have? How can you tell?Explain your answer. (Hint: Open the “Intercept Curve Analysis” window.)\n",
    "\n",
    "5.  How can you distinguish between different aberrations?\n",
    "\n",
    "5.  Do you get the same aberrations from the Point Spread Function plots? What about the Modulation Transfer Function plots?\n"
   ]
  },
  {
   "cell_type": "markdown",
   "metadata": {
    "colab_type": "text",
    "id": "zCl4_QV-3yn6"
   },
   "source": [
    "## Activity 2"
   ]
  },
  {
   "cell_type": "markdown",
   "metadata": {
    "colab_type": "text",
    "id": "xTkox0kH3yn7"
   },
   "source": [
    "For this activity you will be working to optimize a Cooke Triplet lens set. \n",
    "\n",
    "*   Download the Cooke Triplet lens set [here](https://drive.google.com/open?id=1bLVDfdTj6XCjrnNSbQUjHDPhWFhaBHTc).\n",
    "*   The focal length of triplet lens is $50\\ mm$.\n",
    "*   The f-number of triplet lens is $4$.\n",
    "*   The wavelength of the infrared laser is $980\\ nm$.\n",
    "\n",
    "### Tasks\n",
    "1.   Add the laser's wavelength in OSLO and set as current. Make sure this wavelength is included in the following plots where applicable.\n",
    "2.   Adjust the lens to obtain the correct focal length. What changes were made? Provide the reasoning behind your choice of action.\n",
    "3.   Create plots of ray-intercept curves for a field point on axis and at the top of the object. After analysing the curves, can you say about the optical system?\n",
    "4.   Create a plot of the longitudinal spherical aberration (for the on axis field point). What does this plot indicate about the lens? You should see multiple lines in the plot. What do they represent and what do the say about the setup Provide your reasoning.\n",
    "5.   Create a plot of the chromatic focal shift. What information does this provide that is not obtained from the plot of the longitudinal spherical aberration?\n",
    "6.   Create plots for Astigmatism and Distortion and provide your analysis.\n",
    "7.   Create a single spot diagram for an on axis object point with airy disc shown. Is the focal point diffraction limited? How can you tell?\n",
    "8. Create a plot of the on-axis Point Spread Function (PSF). Does this plot confirm whether or not the focal point is diffraction limited? What if any aberrations can be inferred to exist from the shape of the PSF you obtained?\n",
    "9.   Optimize the given Cooke Triplet for the given wavelength by changing the distance between lenses. Consider adjusting things like curvature, thickness/separation, lens size/radius, etc. Please provide a summary of your proceedure and the reasoning behind them. \n",
    "10.   Discuss the ways that your lens setup has been optimized using the aformention tools for analysis provided by OSLO. How has the on-axis PSF changed and what do the changes signify? Is the PSF impacted when changing the <code>APERATURE RADIUS</code> of the lens surfaces? Is your optimized triplet lens system aplanatic? Why or why not?\n",
    "\n",
    "\n",
    "\n",
    "\n",
    "\n",
    "\n"
   ]
  }
 ],
 "metadata": {
  "colab": {
   "collapsed_sections": [],
   "name": "Analysis of Optical Systems with OSLO Activities Page.ipynb",
   "provenance": []
  },
  "kernelspec": {
   "display_name": "Python 3",
   "name": "python3"
  }
 },
 "nbformat": 4,
 "nbformat_minor": 0
}
