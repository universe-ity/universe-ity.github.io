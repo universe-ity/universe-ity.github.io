{
 "cells": [
  {
   "cell_type": "markdown",
   "metadata": {
    "colab_type": "text",
    "id": "r0XF0-qgPg7R"
   },
   "source": [
    "# Activity"
   ]
  },
  {
   "cell_type": "markdown",
   "metadata": {
    "colab_type": "text",
    "id": "O--LZ5pl4BFr"
   },
   "source": [
    "## 1.1 Perform a numerical derivative."
   ]
  },
  {
   "cell_type": "markdown",
   "metadata": {
    "colab_type": "text",
    "id": "6Ecyjnc6VsLj"
   },
   "source": [
    "Mathematica provides a function for performing the derivative that uses a central differencing scheme. Using this function on the knife edge function in mathematica as follows,\n",
    "\n",
    "```\n",
    "H[z_, x_] = N[D[K [z, x], x]];\n",
    "```\n",
    "\n",
    "gives an approximation of the x-derivative of $k(x, z)$ (the knife edge function). A plot of this function and the table of values is shown in the applet at the end of this section "
   ]
  },
  {
   "cell_type": "markdown",
   "metadata": {
    "colab_type": "text",
    "id": "L36u8rGezkR8"
   },
   "source": [
    "## 1.2 Fit the derivative with a Gaussian function"
   ]
  },
  {
   "cell_type": "markdown",
   "metadata": {
    "colab_type": "text",
    "id": "q-Mhs6Y9YplN"
   },
   "source": [
    "Mathematica's \"FindFit\" function can be used to fit a user defined function to the users data. This function can be used to fit a generic gaussian to the results of taking the derivative of the knife edge data. Doing this correctly can produce good estimations of the waist and amplitude of the actually intensity profile being studied in the experiment.\n",
    "\n",
    "***Note: The accuracy of the results produced here can be compared to data obtained from the original analytical functions in the Computation section.***\n",
    "\n",
    "One can fit Mathematica's \"NormalDistribution\" function to the data as follows\n",
    "\n",
    "```\n",
    "model[x_] = ampl*Evaluate[PDF[NormalDistribution[x0, waist/2], x]];\n",
    "FindFit[mydata, model[x], {{ampl, FindPeaks[mydata[[All, 2]]][[1, 2]]}, {x0, 0}, {waist, 50}}, x]\n",
    "```\n",
    "To get the best results, decent estimates for amplitude and waist need to be provided. The waist can be approximated any number of ways. However, the best way to approximate the amplitude is to use the data! The amplitude should be near the maximum amplitude value in the data table. \"FindPeaks\" is the Mathematica function used to obtain the largest value.\n",
    "\n",
    "Unfortunately, although fitting to the \"NormalDistribution\" function produces a value for the waist that is very close to the actual value, the amplitude produced is terribly off the mark. \n",
    "\n",
    "An approach that produces much better results overall, is to manually define the Gaussian model that will be used for fitting to the data. Doing so,\n",
    "\n",
    "```\n",
    "altModel[x_] := ampl* Exp[-2*(x - x0)^2/waist^2];\n",
    "FindFit[mydata, altModel[x], {{ampl, FindPeaks[mydata[[All, 2]]][[1, 2]]}, {x0, 0}, {waist, 50}}, x]\n",
    "```\n",
    "\n",
    "The results of fitting to the two models above can be found (in order) at the bottom of the applet below,\n"
   ]
  },
  {
   "cell_type": "markdown",
   "metadata": {
    "colab_type": "text",
    "id": "N_pOtHX4VMxD"
   },
   "source": [
    "---\n",
    "\n",
    "<iframe src=\"https://www.wolframcloud.com/obj/b239d7f5-cbeb-4d7b-9dcd-3c10d5ae504f\" style=\"position: relative; height: 1600px; width: 100%;\" frameborder=\"0\"></iframe>\n",
    "\n",
    "---"
   ]
  },
  {
   "cell_type": "markdown",
   "metadata": {
    "colab_type": "text",
    "id": "mrHJkbt3zw_l"
   },
   "source": [
    "## 1.3 Make a plot of the beam envelope"
   ]
  },
  {
   "cell_type": "markdown",
   "metadata": {
    "colab_type": "text",
    "id": "tEhz9h3Seh8V"
   },
   "source": [
    "The goal here is to plot the waist, which is obtained from the fit-results in the previous section, as a function of $z$.\n",
    "\n",
    "One thing to consider is how many samples and where in $z$ should the samples be taken in order to produce a plot that displays the important features of $w(z)$. It can be presumed from the nature of diffraction that the greatest curvature in the waist is near its minimum. Far away form its minimum, $w(z)$ is linear. Only two points are needed to represent a line while a curve may need many more points. \n",
    "\n",
    "***Note: Students should realize that more points are needed around $z=0$. Also, student can use any number of ways to create the plot.***\n",
    "\n"
   ]
  },
  {
   "cell_type": "markdown",
   "metadata": {
    "colab_type": "text",
    "id": "IoKXuQKuiQBz"
   },
   "source": [
    "### Plotting with Python"
   ]
  },
  {
   "cell_type": "code",
   "execution_count": 0,
   "metadata": {
    "colab": {
     "base_uri": "https://localhost:8080/",
     "height": 430
    },
    "colab_type": "code",
    "id": "eMn8uHItisde",
    "outputId": "8de0e42e-909c-4d10-debb-5df2a8db45c5"
   },
   "outputs": [
    {
     "data": {
      "text/plain": [
       "[<matplotlib.lines.Line2D at 0x7f554acb7a20>]"
      ]
     },
     "execution_count": 9,
     "metadata": {
      "tags": []
     },
     "output_type": "execute_result"
    },
    {
     "data": {
      "image/png": "[encoded data removed]",
      "text/plain": [
       "<Figure size 800x480 with 1 Axes>"
      ]
     },
     "metadata": {
      "tags": []
     },
     "output_type": "display_data"
    }
   ],
   "source": [
    "import numpy as np\n",
    "import matplotlib.pyplot as plt\n",
    "\n",
    "z = np.array([-3141.59, -2073.45, -1500.11, -997.456, -596.903, -400.553, -329.867, -298.451, -250, -225, -200, -175, -150, -125, -100, -80, -70, -60, -50, -40, -30, -20, -15, -10, -5, 0 ])\n",
    "w = np.array([100.25, 66.1891, 48.0111, 32.1413, 19.6469, 13.6953, 11.6297, 10.7355, 9.39818, 8.73464, 8.09497, 7.48529, 6.91356, 6.38995, 5.92724, 5.61111, 5.47401, 5.35234, 5.24719, 5.15957, 5.09037, 5.04037, 5.02275, 5.01012, 5.00253, 5 ])\n",
    "\n",
    "z = np.append(z,-1*np.flip(z)[1:] )  #created the full range using the mirror of z\n",
    "w = np.append(w,np.flip(w)[1:])\n",
    "\n",
    "fig = plt.figure(figsize=(10, 6), dpi= 80, facecolor='w', edgecolor='k')\n",
    "plt.plot(z, w, 'ko--')"
   ]
  },
  {
   "cell_type": "markdown",
   "metadata": {
    "colab_type": "text",
    "id": "5PocORUz47Ex"
   },
   "source": [
    "## Questions"
   ]
  },
  {
   "cell_type": "markdown",
   "metadata": {
    "colab_type": "text",
    "id": "EXEZFsoRsH41"
   },
   "source": [
    "1.   **At what $z$ position is the spot size the smallest?**\n",
    "\n",
    ">The spot size is the smallest at the $z$ position where the waist is the smallest which is at $z=0$. Note that here, \"waist\" is synonymous with \"spot size.\""
   ]
  },
  {
   "cell_type": "markdown",
   "metadata": {
    "colab_type": "text",
    "id": "iF0Nx3LXy4AJ"
   },
   "source": [
    "2.   **What is the value of the smallest spot size $w_0$?**\n",
    "\n",
    ">The value of the smallest spot size is 5."
   ]
  },
  {
   "cell_type": "markdown",
   "metadata": {
    "colab_type": "text",
    "id": "XqZNhSppy7uv"
   },
   "source": [
    "3.   **What is the divergence angle θ?**"
   ]
  },
  {
   "cell_type": "code",
   "execution_count": 0,
   "metadata": {
    "colab": {
     "base_uri": "https://localhost:8080/",
     "height": 447
    },
    "colab_type": "code",
    "id": "p3dU4fWKu7dk",
    "outputId": "49c7ca76-466f-42cf-dd28-6d56089233b4"
   },
   "outputs": [
    {
     "data": {
      "text/plain": [
       "[<matplotlib.lines.Line2D at 0x7f554a800278>,\n",
       " <matplotlib.lines.Line2D at 0x7f554a8003c8>]"
      ]
     },
     "execution_count": 10,
     "metadata": {
      "tags": []
     },
     "output_type": "execute_result"
    },
    {
     "data": {
      "image/png": "[encoded data removed]",
      "text/plain": [
       "<Figure size 800x480 with 1 Axes>"
      ]
     },
     "metadata": {
      "tags": []
     },
     "output_type": "display_data"
    }
   ],
   "source": [
    "z_fit_coord = np.array([0, 2073.45, 3141.59])\n",
    "w_fit_coord = np.array([5, 66.1891, 100.25])\n",
    "\n",
    "#Get slope and intercept for the linear fit line\n",
    "m, b = np.polyfit(z_fit_coord, w_fit_coord, 1)\n",
    "\n",
    "fig = plt.figure(figsize=(10, 6), dpi= 80, facecolor='w', edgecolor='k')\n",
    "plt.plot(z_fit_coord, w_fit_coord, 'ko', z_fit_coord, m*z_fit_coord + b, 'b--')"
   ]
  },
  {
   "cell_type": "code",
   "execution_count": 0,
   "metadata": {
    "colab": {
     "base_uri": "https://localhost:8080/",
     "height": 34
    },
    "colab_type": "code",
    "id": "g3AzF1cDxrar",
    "outputId": "3315b115-30ef-4ac2-8baf-d6318f7e04ad"
   },
   "outputs": [
    {
     "data": {
      "text/plain": [
       "'  A. Divergence angle is 1.730321593279073 degrees.'"
      ]
     },
     "execution_count": 14,
     "metadata": {
      "tags": []
     },
     "output_type": "execute_result"
    }
   ],
   "source": [
    "import math as math\n",
    "\n",
    "divergence_angle = math.degrees(math.atan(m))\n",
    "\n",
    "#Print the result\n",
    "\"  A. Divergence angle is \" + str(divergence_angle) + \" degrees.\""
   ]
  },
  {
   "cell_type": "markdown",
   "metadata": {
    "colab_type": "text",
    "id": "odNya3emzfSo"
   },
   "source": [
    "4.   **What is the Rayleigh length $𝑧_𝑅$ of the beam?**\n",
    "\n",
    "  >The Rayleigh length is $z_R = \\frac{\\pi w^2_0}{\\lambda}$. The value can be determined from the data using the following equation,\n",
    "  \\begin{align}\n",
    "  w(z) &= w_0 \\sqrt{1 + \\left(\\frac{z}{z_R}\\right)^2}\\\\\n",
    "  &\\Downarrow \\\\\n",
    "  z_R &= \\frac{z}{\\sqrt{\\left(\\frac{w}{w_0}\\right)^2 - 1}}\n",
    "  \\end{align}"
   ]
  },
  {
   "cell_type": "code",
   "execution_count": 0,
   "metadata": {
    "colab": {
     "base_uri": "https://localhost:8080/",
     "height": 34
    },
    "colab_type": "code",
    "id": "KBDzBIAG2ilk",
    "outputId": "4239cd38-c5c2-4176-f7bd-e0343bb65942"
   },
   "outputs": [
    {
     "data": {
      "text/plain": [
       "'  A. The Rayleigh length is 157.07434013198065.'"
      ]
     },
     "execution_count": 12,
     "metadata": {
      "tags": []
     },
     "output_type": "execute_result"
    }
   ],
   "source": [
    "#Calculate the square root quantity\n",
    "w_0 = 5\n",
    "temp_var = w/w_0\n",
    "temp_var = temp_var*temp_var - 1.0\n",
    "temp_var = np.sqrt(temp_var)\n",
    "\n",
    "#Remove any zeros from what will go in the denominator \n",
    "#and remove the corresponding position\n",
    "index_of_zero = np.argwhere(temp_var == 0)[0][0]\n",
    "z_alt = np.delete(z, index_of_zero)\n",
    "temp_var = np.delete(temp_var, index_of_zero)\n",
    "\n",
    "#Put it all together to get z_R from each individual point\n",
    "#then average all the z_R values to get one value. \n",
    "z_R = np.abs(z_alt/temp_var)\n",
    "z_R_avg = np.mean(z_R)\n",
    "\n",
    "\"  A. The Rayleigh length is \" + str(z_R_avg) + \".\""
   ]
  },
  {
   "cell_type": "markdown",
   "metadata": {
    "colab_type": "text",
    "id": "Oxo4BFnu8hO_"
   },
   "source": [
    "  > Using the instructors parameters the exact answer should be 157.07963268.\n",
    "\n"
   ]
  },
  {
   "cell_type": "markdown",
   "metadata": {
    "colab_type": "text",
    "id": "S-wvLTHp9IOg"
   },
   "source": [
    "5.   **What is the wavelength 𝜆 of the beam?**\n",
    "\n",
    "  >The wavelength of the beam is\n",
    "\n"
   ]
  },
  {
   "cell_type": "code",
   "execution_count": 0,
   "metadata": {
    "colab": {
     "base_uri": "https://localhost:8080/",
     "height": 34
    },
    "colab_type": "code",
    "id": "EPdzbsYS9YQe",
    "outputId": "5a7b3e1a-89e9-4c90-df60-2cdf003f9d55"
   },
   "outputs": [
    {
     "data": {
      "text/plain": [
       "0.5000168472695941"
      ]
     },
     "execution_count": 13,
     "metadata": {
      "tags": []
     },
     "output_type": "execute_result"
    }
   ],
   "source": [
    "lambda_1 = (math.pi*w_0**2)/z_R_avg\n",
    "lambda_1"
   ]
  },
  {
   "cell_type": "markdown",
   "metadata": {
    "colab_type": "text",
    "id": "KzkLS6Zx-TUC"
   },
   "source": [
    "6.   **Does the beam power change along the propagation direction?**\n",
    "\n",
    "  >No.\n",
    "\n"
   ]
  }
 ],
 "metadata": {
  "colab": {
   "collapsed_sections": [],
   "name": "Guide Gaussian Beam Activity Page.ipynb",
   "provenance": []
  },
  "kernelspec": {
   "display_name": "Python 3",
   "name": "python3"
  }
 },
 "nbformat": 4,
 "nbformat_minor": 0
}
