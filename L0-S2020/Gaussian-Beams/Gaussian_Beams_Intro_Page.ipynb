{
 "cells": [
  {
   "cell_type": "markdown",
   "metadata": {
    "colab_type": "text",
    "id": "-iRkPnolqe4j"
   },
   "source": [
    "# Introduction"
   ]
  },
  {
   "cell_type": "markdown",
   "metadata": {
    "colab_type": "text",
    "id": "infPiTKW2CGq"
   },
   "source": [
    "In this lab students will explore the propagation of a Gaussian beam. More specifically, students are provided with an interactive applet containing 3D intensity profile along with a knife edge scan plot and data table. The students will be tasked with deterining the intensity profile of the Gaussian beam and specifically the waist size at different points along the direction of propogation."
   ]
  }
 ],
 "metadata": {
  "colab": {
   "collapsed_sections": [],
   "name": "Gaussian Beams Intro Page.ipynb",
   "provenance": []
  },
  "kernelspec": {
   "display_name": "Python 3",
   "name": "python3"
  }
 },
 "nbformat": 4,
 "nbformat_minor": 0
}
