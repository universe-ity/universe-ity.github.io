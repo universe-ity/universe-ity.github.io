{
 "cells": [
  {
   "cell_type": "markdown",
   "metadata": {
    "colab_type": "text",
    "id": "jn5rJcgKxuUu"
   },
   "source": [
    "# Credits\n",
    "1.  **A majority of the resource materials regarding OSLO were obtained from and with the permission of [Scott Prahl](https://omlc.org/~prahl/).**\n",
    "2.  **Physlets were obtained from [Physlet® Physics 3E: Interactive Illustrations, Explorations, and Problems for Introductory Physics](https://www.compadre.org/Physlets/) by Wolfgang Christian and Mario Belloni**\n",
    "\n"
   ]
  }
 ],
 "metadata": {
  "colab": {
   "collapsed_sections": [],
   "name": "Geometric Optics Credits Page.ipynb",
   "provenance": []
  },
  "kernelspec": {
   "display_name": "Python 3",
   "name": "python3"
  }
 },
 "nbformat": 4,
 "nbformat_minor": 0
}
