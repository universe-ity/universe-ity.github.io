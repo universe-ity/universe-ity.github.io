{
 "cells": [
  {
   "cell_type": "markdown",
   "metadata": {
    "colab_type": "text",
    "id": "TmUJvc2h3Tjv"
   },
   "source": [
    "# Introduction\n",
    "\n",
    "In this experiment you will design a simple lens setup, first on paper and then using [OSLO](https://www.lambdares.com/oslo/) to raytrace the setup. We will first design a $1:1$ imaging setup and then a magnifying setup.\n",
    "\n",
    "\n"
   ]
  },
  {
   "cell_type": "markdown",
   "metadata": {
    "colab_type": "text",
    "id": "DrV3faypBXyi"
   },
   "source": [
    "In this lab you will be making use of OSLO, a powerful, professional optical raytracing program. While OSLO may seem a bit obtuse at first, the hope is that the guide herein will be able to demystify the methods of using OSLO to solve your problems. By mastering OSLO you should be able to accurately simulate optical experiments similar to what you would have been performing in the physical lab."
   ]
  }
 ],
 "metadata": {
  "colab": {
   "collapsed_sections": [],
   "name": "Geometric Optics Lab Introduction.ipynb",
   "provenance": []
  },
  "kernelspec": {
   "display_name": "Python 3",
   "name": "python3"
  }
 },
 "nbformat": 4,
 "nbformat_minor": 0
}
